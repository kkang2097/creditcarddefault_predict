{
 "cells": [
  {
   "cell_type": "raw",
   "metadata": {},
   "source": [
    "Because the dataset is unbalanced, we have to deal with that unbalance since Logistic Regression has trouble handling unbalanced datasets. One way to balance the dataset more is through random undersampling of the majority class. We could also use SMOTE oversampling but the dataset tends to overfit, especially since we have such an unbalanced data set. \n",
    "\n",
    "Below, we will use SMOTE first.\n",
    "\n",
    "**A common mistake is to use SMOTE-oversampling BEFORE dividing into training and test sets. This leaks information from the test set onto the training sets.**"
   ]
  },
  {
   "cell_type": "markdown",
   "metadata": {},
   "source": [
    "Since Amount and Time columns don't give much value, Amount can be normalized and Time can be dropped."
   ]
  },
  {
   "cell_type": "code",
   "execution_count": 88,
   "metadata": {},
   "outputs": [
    {
     "name": "stderr",
     "output_type": "stream",
     "text": [
      "C:\\Anaconda\\lib\\site-packages\\ipykernel_launcher.py:13: FutureWarning: reshape is deprecated and will raise in a subsequent release. Please use .values.reshape(...) instead\n",
      "  del sys.path[0]\n",
      "C:\\Anaconda\\lib\\site-packages\\sklearn\\utils\\deprecation.py:77: DeprecationWarning: Function _ratio_float is deprecated; Use a float for 'ratio' is deprecated from version 0.2. The support will be removed in 0.4. Use a dict, str, or a callable instead.\n",
      "  warnings.warn(msg, category=DeprecationWarning)\n"
     ]
    }
   ],
   "source": [
    "import numpy as np\n",
    "import pandas as pd\n",
    "from sklearn.ensemble import RandomForestClassifier\n",
    "from sklearn.model_selection import train_test_split\n",
    "from sklearn.metrics import recall_score\n",
    "from sklearn.preprocessing import scale\n",
    "from imblearn.over_sampling import SMOTE\n",
    "\n",
    "df = pd.read_csv('C:\\\\Users\\\\Elliot\\\\Desktop\\\\data science datasets\\\\credit card fraud\\\\creditcard.csv') #filepath\n",
    "\n",
    "from sklearn.preprocessing import StandardScaler\n",
    "\n",
    "df['normAmount'] = StandardScaler().fit_transform(df['Amount'].reshape(-1, 1))\n",
    "df = df.drop(['Time','Amount'],axis=1)\n",
    "x = df.iloc[:, 1:]\n",
    "y = df['Class']   \n",
    "#split into training and test sets\n",
    "x_train, x_test, y_train, y_test = train_test_split(x, y, test_size = .2, random_state=42)\n",
    "sm = SMOTE(random_state = 42, ratio = 1.0)\n",
    "x_train_res, y_train_res = sm.fit_sample(x_train, y_train)\n",
    "\n"
   ]
  },
  {
   "cell_type": "code",
   "execution_count": 98,
   "metadata": {},
   "outputs": [
    {
     "name": "stdout",
     "output_type": "stream",
     "text": [
      "Validation Results\n",
      "1.0\n",
      "1.0\n",
      "\n",
      "Test Results\n",
      "1.0\n",
      "1.0\n"
     ]
    }
   ],
   "source": [
    "from sklearn import  linear_model\n",
    "log_reg = linear_model.LogisticRegression(C=1e5)  #C is a high number to not normalize\n",
    "log_reg.fit(x_train_res, y_train_res)\n",
    "#print(log_reg.score(x_test, y_test))\n",
    "\n",
    "y_expected = np.array(log_reg.predict(x_test))\n",
    "y_actual = np.array(y_test)\n",
    "\n",
    "print('Validation Results')\n",
    "print(log_reg.score(x_test, y_test))\n",
    "print(recall_score(y_test, log_reg.predict(x_test)))\n",
    "print('\\nTest Results')\n",
    "print(log_reg.score(x_test, y_test))\n",
    "print(recall_score(y_test, log_reg.predict(x_test)))\n"
   ]
  },
  {
   "cell_type": "markdown",
   "metadata": {},
   "source": [
    "Since we oversample on just training data, no information from the test set should be given away to the training set. Let's take a look at the confusion matrix."
   ]
  },
  {
   "cell_type": "code",
   "execution_count": 93,
   "metadata": {},
   "outputs": [
    {
     "name": "stdout",
     "output_type": "stream",
     "text": [
      "Confusion matrix:\n",
      "Predicted      0   1  __all__\n",
      "Actual                       \n",
      "0          56863   1    56864\n",
      "1              0  98       98\n",
      "__all__    56863  99    56962\n"
     ]
    },
    {
     "data": {
      "image/png": "[encoded data removed]",
      "text/plain": [
       "<matplotlib.figure.Figure at 0x1a400a01dd8>"
      ]
     },
     "metadata": {},
     "output_type": "display_data"
    },
    {
     "name": "stdout",
     "output_type": "stream",
     "text": [
      "population: 56962\n",
      "P: 98\n",
      "N: 56864\n",
      "PositiveTest: 99\n",
      "NegativeTest: 56863\n",
      "TP: 98\n",
      "TN: 56863\n",
      "FP: 1\n",
      "FN: 0\n",
      "TPR: 1.0\n",
      "TNR: 0.999982414181\n",
      "PPV: 0.989898989899\n",
      "NPV: 1.0\n",
      "FPR: 1.75858187957e-05\n",
      "FDR: 0.010101010101\n",
      "FNR: 0.0\n",
      "ACC: 0.999982444437\n",
      "F1_score: 0.994923857868\n",
      "MCC: 0.9949279279\n",
      "informedness: 0.999982414181\n",
      "markedness: 0.989898989899\n",
      "prevalence: 0.00172044520909\n",
      "LRP: 56864.0\n",
      "LRN: 0.0\n",
      "DOR: inf\n",
      "FOR: 0.0\n"
     ]
    },
    {
     "name": "stderr",
     "output_type": "stream",
     "text": [
      "C:\\Anaconda\\lib\\site-packages\\pandas_ml\\confusion_matrix\\bcm.py:346: RuntimeWarning: divide by zero encountered in double_scalars\n",
      "  return(np.float64(self.LRP) / self.LRN)\n"
     ]
    }
   ],
   "source": [
    "from pandas_ml import ConfusionMatrix\n",
    "import matplotlib.pyplot as plt\n",
    "cm = ConfusionMatrix(y_actual, y_expected)\n",
    "print(\"Confusion matrix:\\n%s\" % cm)\n",
    "cm.plot(normalized=True)\n",
    "plt.show()\n",
    "cm.print_stats()"
   ]
  },
  {
   "cell_type": "markdown",
   "metadata": {},
   "source": [
    "Instead of oversampling, undersampling might do better. Let's import the dataset."
   ]
  },
  {
   "cell_type": "code",
   "execution_count": 94,
   "metadata": {},
   "outputs": [
    {
     "name": "stderr",
     "output_type": "stream",
     "text": [
      "C:\\Anaconda\\lib\\site-packages\\ipykernel_launcher.py:10: FutureWarning: reshape is deprecated and will raise in a subsequent release. Please use .values.reshape(...) instead\n",
      "  # Remove the CWD from sys.path while we load stuff.\n"
     ]
    }
   ],
   "source": [
    "from sklearn.model_selection import train_test_split\n",
    "from sklearn.metrics import recall_score\n",
    "from imblearn.under_sampling import RandomUnderSampler\n",
    "\n",
    "df = pd.read_csv('C:\\\\Users\\\\Elliot\\\\Desktop\\\\data science datasets\\\\credit card fraud\\\\creditcard.csv') #filepath\n",
    "\n",
    "\n",
    "#preprocessing\n",
    "from sklearn.preprocessing import StandardScaler\n",
    "df['normAmount'] = StandardScaler().fit_transform(df['Amount'].reshape(-1, 1))\n",
    "df = df.drop(['Time','Amount'],axis=1)\n",
    "\n",
    "x = df.iloc[:, 1:]\n",
    "y = df['Class']\n",
    "\n",
    "#Undersample, then do the customary train/test split\n",
    "\n",
    "rus = RandomUnderSampler(ratio = 'majority')\n",
    "x_res, y_res = rus.fit_sample(x,y)\n",
    "#print(x_res.shape, y_res.shape)\n",
    "x_train, x_test, y_train, y_test = train_test_split(x_res, y_res, test_size = .2, random_state = 42) #split into test/train set\n",
    "\n"
   ]
  },
  {
   "cell_type": "code",
   "execution_count": 95,
   "metadata": {},
   "outputs": [
    {
     "name": "stdout",
     "output_type": "stream",
     "text": [
      "Validation Results\n",
      "0.994923857868\n",
      "0.989795918367\n",
      "\n",
      "Test Results\n",
      "0.994923857868\n",
      "0.989795918367\n",
      "Confusion matrix:\n",
      "Predicted    0   1  __all__\n",
      "Actual                     \n",
      "0           99   0       99\n",
      "1            1  97       98\n",
      "__all__    100  97      197\n"
     ]
    },
    {
     "data": {
      "image/png": "[encoded data removed]",
      "text/plain": [
       "<matplotlib.figure.Figure at 0x1a400a010b8>"
      ]
     },
     "metadata": {},
     "output_type": "display_data"
    },
    {
     "name": "stdout",
     "output_type": "stream",
     "text": [
      "population: 197\n",
      "P: 98\n",
      "N: 99\n",
      "PositiveTest: 97\n",
      "NegativeTest: 100\n",
      "TP: 97\n",
      "TN: 99\n",
      "FP: 0\n",
      "FN: 1\n",
      "TPR: 0.989795918367\n",
      "TNR: 1.0\n",
      "PPV: 1.0\n",
      "NPV: 0.99\n",
      "FPR: 0.0\n",
      "FDR: 0.0\n",
      "FNR: 0.0102040816327\n",
      "ACC: 0.994923857868\n",
      "F1_score: 0.994871794872\n",
      "MCC: 0.989897953924\n",
      "informedness: 0.989795918367\n",
      "markedness: 0.99\n",
      "prevalence: 0.497461928934\n",
      "LRP: inf\n",
      "LRN: 0.0102040816327\n",
      "DOR: inf\n",
      "FOR: 0.01\n"
     ]
    },
    {
     "name": "stderr",
     "output_type": "stream",
     "text": [
      "C:\\Anaconda\\lib\\site-packages\\pandas_ml\\confusion_matrix\\bcm.py:332: RuntimeWarning: divide by zero encountered in double_scalars\n",
      "  return(np.float64(self.TPR) / self.FPR)\n"
     ]
    }
   ],
   "source": [
    "#The Logistic Regression model\n",
    "\n",
    "from sklearn import  linear_model\n",
    "log_reg = linear_model.LogisticRegression(C=1e5)  #C is a high number to not normalize\n",
    "log_reg.fit(x_train, y_train)\n",
    "#print(log_reg.score(x_test, y_test))\n",
    "\n",
    "y_expected = np.array(log_reg.predict(x_test))\n",
    "y_actual = np.array(y_test)\n",
    "\n",
    "print('Validation Results')\n",
    "print(log_reg.score(x_test, y_test))\n",
    "print(recall_score(y_test, log_reg.predict(x_test)))\n",
    "print('\\nTest Results')\n",
    "print(log_reg.score(x_test, y_test))\n",
    "print(recall_score(y_test, log_reg.predict(x_test)))\n",
    "\n",
    "#Confusion Matrix / accompanying statistics...\n",
    "\n",
    "from pandas_ml import ConfusionMatrix\n",
    "import matplotlib.pyplot as plt\n",
    "cm = ConfusionMatrix(y_actual, y_expected)\n",
    "print(\"Confusion matrix:\\n%s\" % cm)\n",
    "cm.plot(normalized=True)\n",
    "plt.show()\n",
    "cm.print_stats()"
   ]
  },
  {
   "cell_type": "markdown",
   "metadata": {},
   "source": [
    "In conclusion, both Over/undersampling did fine. The synthetic samples seem to do fine, despite having such a big class imbalance in the set beforehand. However, I will be looking into how to generalize this model better because there is a high chance this model was overfit."
   ]
  }
 ],
 "metadata": {
  "kernelspec": {
   "display_name": "Python 3",
   "language": "python",
   "name": "python3"
  },
  "language_info": {
   "codemirror_mode": {
    "name": "ipython",
    "version": 3
   },
   "file_extension": ".py",
   "mimetype": "text/x-python",
   "name": "python",
   "nbconvert_exporter": "python",
   "pygments_lexer": "ipython3",
   "version": "3.6.3"
  }
 },
 "nbformat": 4,
 "nbformat_minor": 2
}
